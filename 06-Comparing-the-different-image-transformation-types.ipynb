{
 "cells": [
  {
   "cell_type": "markdown",
   "metadata": {},
   "source": [
    "<a id=\"Comparing_Transforms\"></a>\n",
    "## Comparing the Image Transformation Types"
   ]
  },
  {
   "cell_type": "markdown",
   "metadata": {},
   "source": [
    "In this post, we will compare the Discrete Cosine Transform (DCT) and the FFT in terms of which of the transform packs the most information in the least amount of coefficients. We will also use the same comparison to square-waveform-based transforms such as the Walsh or the Haar transform that are already implemented previously. We will gauge the difference between the original image and the reconstructed one form the few coefficients you kept. We will perform pixel by pixel difference between the original image and the reconstructed images to see which one gives the best mean-square-error for the same cut-off frequency (or amount coefficients kept)."
   ]
  },
  {
   "cell_type": "markdown",
   "metadata": {},
   "source": [
    "Let's first import the common classes."
   ]
  },
  {
   "cell_type": "code",
   "execution_count": 15,
   "metadata": {
    "collapsed": true
   },
   "outputs": [],
   "source": [
    "from CommonClasses.fft import *\n",
    "from CommonClasses.dct import *\n",
    "from CommonClasses.walsh import *\n",
    "from CommonClasses.haar import *\n",
    "\n",
    "import numpy as np\n",
    "\n",
    "import matplotlib.pyplot as plt\n",
    "#%matplotlib inline\n",
    "\n",
    "#import matplotlib.image as img\n",
    "#import PIL.Image as Image \n",
    "from PIL import Image\n",
    "import math\n",
    "import cmath\n",
    "\n",
    "import time\n",
    "\n",
    "import csv\n",
    "\n",
    "from numpy import binary_repr\n",
    "\n",
    "from fractions import gcd"
   ]
  },
  {
   "cell_type": "code",
   "execution_count": 16,
   "metadata": {
    "collapsed": true
   },
   "outputs": [],
   "source": [
    "def countNonZeroCoefficients(imge):\n",
    "    \"\"\"Counts the total number of non-zero coefficients.\"\"\"\n",
    "    imge = imge.astype(int)\n",
    "    total = np.sum((np.absolute(imge)>0).astype(int))\n",
    "    return total"
   ]
  },
  {
   "cell_type": "code",
   "execution_count": 17,
   "metadata": {
    "collapsed": true
   },
   "outputs": [],
   "source": [
    "def IdentifyLargestCoefficients(imge, n, dtype='real'):\n",
    "    \"\"\"Constructs matrix that keeps the n largest coefficients and makes all others to zero.\"\"\"\n",
    "    \n",
    "    N = imge.shape[0]\n",
    "    result = np.zeros(N**2, dtype=int)\n",
    "            \n",
    "    # Flatten the 2-D image matrix\n",
    "    imgeFlat = imge.reshape(N**2)\n",
    "    \n",
    "    # Find the indices of the n largest coefficients\n",
    "    ind = np.argsort(imgeFlat)[-n:]\n",
    "    \n",
    "    #Make those as 1 to keep them\n",
    "    result[ind] = 1\n",
    "    \n",
    "    if dtype != 'real':\n",
    "        result = np.zeros(N**2, dtype=complex)\n",
    "        result[ind] = 1+1j\n",
    "\n",
    "    #Reshape the result and return it.\n",
    "    return result.reshape([N, N])"
   ]
  },
  {
   "cell_type": "code",
   "execution_count": 18,
   "metadata": {
    "collapsed": true
   },
   "outputs": [],
   "source": [
    "def findImgeWithLargeCoefficients(imge, coeffMat):\n",
    "    \"\"\"Finds the image having only the largest coefficients based on the coeffMat matrix.\"\"\"\n",
    "    \n",
    "    imgeReduced = imge * coeffMat\n",
    "    \n",
    "    return imgeReduced"
   ]
  },
  {
   "cell_type": "code",
   "execution_count": 19,
   "metadata": {
    "collapsed": true
   },
   "outputs": [],
   "source": [
    "def calculateRMSE(origImge, recImge):\n",
    "    \"\"\"Calculates the Root Mean Square Error (RMSE) between the original image(origImge)\n",
    "       and recovered image(recImge)\"\"\"\n",
    "    rmse = math.sqrt(np.sum((origImge - recImge)**2))\n",
    "    return rmse"
   ]
  },
  {
   "cell_type": "code",
   "execution_count": 20,
   "metadata": {
    "collapsed": true
   },
   "outputs": [],
   "source": [
    "imgeCameraman = Image.open(\"Images/lena_gray_64.tif\") # open an image\n",
    "imgeCameraman = imgeCameraman.convert(mode='L')\n",
    "\n",
    "imgeCameraman = np.array(imgeCameraman).astype(int)\n",
    "\n",
    "#imgeCameraman = np.array(imgeCameraman)\n",
    "#imgeCameraman = Images.generateBlackAndWhiteSquareImage(64)"
   ]
  },
  {
   "cell_type": "code",
   "execution_count": 21,
   "metadata": {},
   "outputs": [
    {
     "data": {
      "text/plain": [
       "4082"
      ]
     },
     "execution_count": 21,
     "metadata": {},
     "output_type": "execute_result"
    }
   ],
   "source": [
    "N = imgeCameraman.shape[0]\n",
    "imgCamFFTInv = np.absolute(FFT.computeFFT(imgeCameraman)*N).astype(int)\n",
    "\n",
    "#Count the number of non zero coefficients\n",
    "np.sum((imgCamFFTInv>0).astype(int))"
   ]
  },
  {
   "cell_type": "code",
   "execution_count": 22,
   "metadata": {
    "collapsed": true
   },
   "outputs": [],
   "source": [
    "#Calculate the transforms\n",
    "imgCamFFT = FFT.computeFFT(imgeCameraman)"
   ]
  },
  {
   "cell_type": "code",
   "execution_count": 23,
   "metadata": {},
   "outputs": [],
   "source": [
    "imgCamDCT = DCT.computeForward2DDCT(imgeCameraman)"
   ]
  },
  {
   "cell_type": "code",
   "execution_count": 24,
   "metadata": {
    "collapsed": true
   },
   "outputs": [],
   "source": [
    "imgCamWal = Walsh.computeForwardWalsh(imgeCameraman)"
   ]
  },
  {
   "cell_type": "code",
   "execution_count": 25,
   "metadata": {
    "collapsed": true
   },
   "outputs": [],
   "source": [
    "imgCamHaar = Haar.computeForwardHaar(imgeCameraman)"
   ]
  },
  {
   "cell_type": "code",
   "execution_count": 26,
   "metadata": {},
   "outputs": [
    {
     "name": "stdout",
     "output_type": "stream",
     "text": [
      "Total Number of Non-Zero Coefficients:\n",
      "--------------------------------------\n",
      "FFT:  291\n",
      "DCT:  3910\n",
      "Walsh:  3961\n",
      "Haar:  4004\n"
     ]
    }
   ],
   "source": [
    "#Count the number of non-zero coefficients from the transformed images.\n",
    "fftSpectrum = np.absolute(imgCamFFT)\n",
    "numCoeff_FFT = countNonZeroCoefficients(fftSpectrum)\n",
    "numCoeff_DCT = countNonZeroCoefficients(imgCamDCT)\n",
    "numCoeff_Wal = countNonZeroCoefficients(imgCamWal)\n",
    "numCoeff_Haar = countNonZeroCoefficients(imgCamHaar*(N**2))\n",
    "\n",
    "print \"Total Number of Non-Zero Coefficients:\"\n",
    "print \"--------------------------------------\"\n",
    "print \"FFT: \", numCoeff_FFT\n",
    "print \"DCT: \", numCoeff_DCT\n",
    "print \"Walsh: \", numCoeff_Wal\n",
    "print \"Haar: \", numCoeff_Haar"
   ]
  },
  {
   "cell_type": "code",
   "execution_count": 27,
   "metadata": {
    "collapsed": true
   },
   "outputs": [],
   "source": [
    "#Number of coefficients to be retained in the image (all others will be zero)\n",
    "n_coeffs = [10, 100, 200, 300, 500]\n",
    "#n_coeffs = 4096\n",
    "rmses = np.zeros([4, len(n_coeffs)])\n",
    "imges = [imgCamFFT, imgCamDCT, imgCamWal, imgCamHaar]\n",
    "for i, imge in enumerate(imges):\n",
    "    for j, n_coeff in enumerate(n_coeffs):\n",
    "        \n",
    "        N = imge.shape[0]\n",
    "        #If complex numbers...\n",
    "        if i==0:\n",
    "            imge2 = np.absolute(imge)\n",
    "            H = IdentifyLargestCoefficients(imge2, n_coeff, 'complex')\n",
    "            recImge = H * imge\n",
    "            #Compute the Inverse Transform\n",
    "            recImgeInv = FFT.computeInverseFFT(recImge)/N\n",
    "        elif i==1:\n",
    "            H = IdentifyLargestCoefficients(imge, n_coeff)\n",
    "            recImge = H * imge\n",
    "            #Compute the Inverse Transform\n",
    "            recImgeInv = DCT.computeInverse2DDCT(recImge)\n",
    "        elif i==2:\n",
    "            H = IdentifyLargestCoefficients(imge, n_coeff)\n",
    "            recImge = H * imge\n",
    "            #Compute the Inverse Transform\n",
    "            recImgeInv = Walsh.computeInverseWalsh(recImge)\n",
    "        else:\n",
    "            H = IdentifyLargestCoefficients(imge, n_coeff)\n",
    "            recImge = H * imge\n",
    "            #Compute the Inverse Transform\n",
    "            recImgeInv = Haar.computeInverseHaar(recImge)*(N**2)\n",
    "            \n",
    "        #Calculate the RMSE between the original and the recovered images\n",
    "        rmses[i, j] = calculateRMSE(imgeCameraman, recImgeInv)"
   ]
  },
  {
   "cell_type": "code",
   "execution_count": 31,
   "metadata": {},
   "outputs": [
    {
     "data": {
      "image/png": "[encoded data removed]",
      "text/plain": [
       "<matplotlib.figure.Figure at 0x7fb8c7d37690>"
      ]
     },
     "metadata": {},
     "output_type": "display_data"
    }
   ],
   "source": [
    "#Visualize the above results graphically.\n",
    "for i in range(rmses.shape[0]):\n",
    "    if i==0:\n",
    "        continue\n",
    "    rmse = rmses[i, :]\n",
    "    plt.plot(n_coeffs, rmse)\n",
    "    #plt.hold(True)\n",
    "    \n",
    "plt.title('Number of Coefficients used against RMSE values.')\n",
    "plt.xlabel('# of Coefficients')\n",
    "plt.ylabel('RMSE')\n",
    "plt.legend(['DCT', 'FFT', 'Walsh'], loc=1)\n",
    "plt.show()"
   ]
  },
  {
   "cell_type": "markdown",
   "metadata": {},
   "source": [
    "From the above graph, we can conclude that as the number of coeffients increases, the error decreases. And DCT has more compact number of coefficients because we could get more information with same number of coefficients as the other transforms."
   ]
  }
 ],
 "metadata": {
  "anaconda-cloud": {},
  "kernelspec": {
   "display_name": "Python 2",
   "language": "python",
   "name": "python2"
  },
  "language_info": {
   "codemirror_mode": {
    "name": "ipython",
    "version": 2
   },
   "file_extension": ".py",
   "mimetype": "text/x-python",
   "name": "python",
   "nbconvert_exporter": "python",
   "pygments_lexer": "ipython2",
   "version": "2.7.13"
  }
 },
 "nbformat": 4,
 "nbformat_minor": 1
}
