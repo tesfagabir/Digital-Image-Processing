{
 "cells": [
  {
   "cell_type": "markdown",
   "metadata": {},
   "source": [
    "# Implementing Walsh and Haar Transforms Using Python"
   ]
  },
  {
   "cell_type": "markdown",
   "metadata": {},
   "source": [
    "## Table of Contents\n",
    "* [Walsh Transform](#Walsh)\n",
    "    * [Introduction](#WalshIntroduction)\n",
    "    * [Python Implementation](#WalshImplementation)\n",
    "    * [Testing](#WalshTesting)\n",
    "* [Haar Transform](#Haar)\n",
    "    * [Introduction](#HaarIntroduction)\n",
    "    * [Python Implementation](#HaarImplementation)\n",
    "    * [Testing](#HaarTesting)"
   ]
  },
  {
   "cell_type": "markdown",
   "metadata": {},
   "source": [
    "<a name=\"Walsh\"></a>\n",
    "## The Walsh Transform"
   ]
  },
  {
   "cell_type": "markdown",
   "metadata": {
    "collapsed": true
   },
   "source": [
    "<a name=\"WalshIntroduction\"></a>\n",
    "### Introduction"
   ]
  },
  {
   "cell_type": "markdown",
   "metadata": {},
   "source": [
    "The Walsh Transform is one way of transforming a signal/image from a space-domain to its corresponding frequency-domain. The DFT is a complex, sinusoidal transform while DCT is a transform where the imaginary values are eliminated and the real ones are retained. In the case of Walsh, it is a square waveform transform. In addition, the base/kernel functions in the Walsh tranformation are orthogonal, orthonormal and symmetric. Those in DFT are also symmetric. The forward walsh transform is as follows (Assume that N = $2^n$):\n",
    "\n",
    "$\n",
    "\\begin{align}\n",
    "H(u,v) = \\frac{1}{N}\\sum_{x=0}^{N-1}\\sum_{y=0}^{N-1}f(x,y) (-1)^{ \\beta } \\;\\\\ where \\; u,v=0,1,2,...N-1 \\\\\n",
    "\\beta = \\sum_{i=0}^{n-1}b_i(x)b_i(u) + \\sum_{i=0}^{n-1}b_i(y)b_i(v)\n",
    "\\end{align}\n",
    "$\n",
    "\n",
    "Since the kernels of the walsh transform are real and orthogonal, they are separable. The forward transform can be rewritten as:\n",
    "\n",
    "$H(u,v) = k.f(x,y).k $\n",
    "\n",
    "$ Where \\; u,v=0,1,2,...N-1 \\; and \\; k = \\sum_{i=0}^{n-1}b_i(x)b_i(u) $\n",
    "\n",
    "Similarly, the inverse walsh transform will look as follows:\n",
    "\n",
    "$f(x,y) = k.H(u,v).k $\n",
    "\n",
    "This is exactly the same as that of the forward transformation as the kernels are real and symmetric. "
   ]
  },
  {
   "cell_type": "markdown",
   "metadata": {},
   "source": [
    "<a name=\"WalshImplementation\"></a>\n",
    "### Python Implementation"
   ]
  },
  {
   "cell_type": "markdown",
   "metadata": {},
   "source": [
    "First of all, let's import the necessary python libraries"
   ]
  },
  {
   "cell_type": "code",
   "execution_count": 1,
   "metadata": {
    "collapsed": true
   },
   "outputs": [],
   "source": [
    "import numpy as np\n",
    "\n",
    "import matplotlib.pyplot as plt\n",
    "%matplotlib inline\n",
    "\n",
    "#import matplotlib.image as img\n",
    "import PIL.Image as Image \n",
    "\n",
    "import math\n",
    "import cmath\n",
    "\n",
    "import time\n",
    "\n",
    "import csv\n",
    "\n",
    "from numpy import binary_repr\n"
   ]
  },
  {
   "cell_type": "markdown",
   "metadata": {},
   "source": [
    "Now let's start with creating common image functions."
   ]
  },
  {
   "cell_type": "code",
   "execution_count": 2,
   "metadata": {
    "collapsed": true
   },
   "outputs": [],
   "source": [
    "def generateImagesWithResizedWhite(imge):\n",
    "    \"\"\"\n",
    "    Generates images with the same size as the original but with a resized white part of them.\n",
    "    \"\"\"\n",
    "\n",
    "    N = imge.shape[0]\n",
    "\n",
    "    imges = []\n",
    "    i = N/2\n",
    "    while i >= 4:\n",
    "        j = (N - i)/2\n",
    "\n",
    "        #Starting and ending indices for the white part.\n",
    "        indx1 = j\n",
    "        indx2 = j+i\n",
    "\n",
    "        #Draw the image.\n",
    "        imgeNew = np.zeros([N, N],dtype=int)\n",
    "        imgeNew[indx1:indx2, indx1:indx2] = np.ones([i, i], dtype=int)*255\n",
    "\n",
    "        #Add the image to the list.\n",
    "        imges.append(imgeNew)\n",
    "\n",
    "        i = i/2\n",
    "\n",
    "    return imges\n",
    "\n",
    "def generateBlackAndWhiteSquareImage(imgSize):\n",
    "    \"\"\"\n",
    "    Generates a square-sized black and white image with a given input size.\n",
    "\n",
    "    Parameters\n",
    "    ----------\n",
    "    imgSize : int\n",
    "        Input number that stores the dimension of the square image to be generated.\n",
    "\n",
    "    Returns\n",
    "    -------\n",
    "    imge : ndarray\n",
    "        The generated black and white square image.\n",
    "    \"\"\"\n",
    "\n",
    "    #Creating a matrix with a given size where all the stored values are only zeros (for initialization)\n",
    "    imge = np.zeros([imgSize, imgSize], dtype=int)\n",
    "\n",
    "    #Starting and ending indices of the white part of the image.\n",
    "    ind1 = imgSize/4\n",
    "    ind2 = ind1 + (imgSize/2)\n",
    "\n",
    "    #Make a part of the image as white (255)\n",
    "    imge[ind1:ind2, ind1:ind2] = np.ones([imgSize/2, imgSize/2], dtype=int)*255\n",
    "\n",
    "    #return the resulting image\n",
    "    return imge\n",
    "\n",
    "def generateImages(imgSizes=[128, 64, 32, 16, 8]): \n",
    "    \"\"\"\n",
    "    Generates images of different sizes.\"\"\"\n",
    "    #Create an empty list of images to save the generated images with different sizes.\n",
    "    images = []\n",
    "\n",
    "    #Generate the first and biggest image\n",
    "    imge = generateBlackAndWhiteSquareImage(imgSizes[0])\n",
    "\n",
    "    #Add to the images list\n",
    "    images.append(imge)\n",
    "\n",
    "    #Generate the resized and smaller images with different sizes.\n",
    "    for i in range(1, len(imgSizes)):\n",
    "        size = imgSizes[i]\n",
    "        images.append(resizeImage(imge, size))\n",
    "        \n",
    "    return images\n",
    "\n",
    "def resizeImage(imge, newSize):        \n",
    "    \"\"\"\n",
    "    Reduces the size of the given image.\n",
    "\n",
    "    Parameters\n",
    "    ----------\n",
    "    imge : ndarray\n",
    "        Input array that stores the image to be resized.\n",
    "\n",
    "    Returns\n",
    "    -------\n",
    "    newSize : int\n",
    "        The size of the newly generated image.\n",
    "    \"\"\"\n",
    "\n",
    "    #Compute the size of the original image (in this case, only # of rows as it is square)\n",
    "    N = imge.shape[0]\n",
    "\n",
    "    #The ratio of the original image as compared to the new one.\n",
    "    stepSize = N/newSize\n",
    "\n",
    "    #Creating a new matrix (image) with a black color (values of zero)\n",
    "    newImge = np.zeros([N/stepSize, N/stepSize])\n",
    "\n",
    "    #Average the adjacent four pixel values to compute the new intensity value for the new image.\n",
    "    for i in xrange(0, N, stepSize):\n",
    "        for j in xrange(0, N, stepSize):\n",
    "            newImge[i/stepSize, j/stepSize] = np.mean(imge[i:i+stepSize, j:j+stepSize])\n",
    "\n",
    "    #Return the new image\n",
    "    return newImge"
   ]
  },
  {
   "cell_type": "markdown",
   "metadata": {},
   "source": [
    "Next, we are going to implement the walsh transform:"
   ]
  },
  {
   "cell_type": "code",
   "execution_count": 3,
   "metadata": {
    "collapsed": true
   },
   "outputs": [],
   "source": [
    "class Walsh(object):\n",
    "    \"\"\"\n",
    "    This class Walsh implements all the procedures for transforming a given 2D digital image\n",
    "    into its corresponding frequency-domain image (Walsh Transform)\n",
    "    \"\"\"\n",
    "    \n",
    "    @classmethod\n",
    "    def __computeBeta(self, u, x, n):\n",
    "        uBin = binary_repr(u, width=n)\n",
    "        xBin = binary_repr(x, width=n)\n",
    "        beta = 0\n",
    "        for i in xrange(n):\n",
    "            beta += (int(xBin[i])*int(uBin[i]))\n",
    "        \n",
    "        return beta\n",
    "    \n",
    "    #Compute walsh kernel (there is only a single kernel for forward and inverse transform\n",
    "    #as it is both orthogonal and symmetric).\n",
    "    @classmethod\n",
    "    def computeKernel(self, N):\n",
    "        \"\"\"\n",
    "        Computes/generates the walsh kernel function.\n",
    "\n",
    "        Parameters\n",
    "        ----------\n",
    "        N : int\n",
    "            Size of the kernel to be generated.\n",
    "\n",
    "        Returns\n",
    "        -------\n",
    "        kernel : ndarray\n",
    "            The generated kernel as a matrix.\n",
    "        \"\"\"\n",
    "        \n",
    "        #Initialize the kernel\n",
    "        kernel = np.zeros([N, N])\n",
    "        #Compute each value of the kernel...\n",
    "        n = int(math.log(N, 2))        \n",
    "        for u in xrange(N):\n",
    "            for x in xrange(N):\n",
    "                beta = Walsh.__computeBeta(u, x, n)\n",
    "                kernel[u, x] = (-1)**beta\n",
    "        \n",
    "        #To make the kernel orthonormal, we can divide it by sqrt(N)\n",
    "        #kernel /= math.sqrt(N)\n",
    "        \n",
    "        #Return the resulting kernel\n",
    "        return kernel\n",
    "\n",
    "    @classmethod\n",
    "    def computeForward2DWalshTransform(self, imge):\n",
    "        \"\"\"\n",
    "        Computes/generates the 2D Walsh transform.\n",
    "\n",
    "        Parameters\n",
    "        ----------\n",
    "        imge : ndarray\n",
    "            The input image to be transformed.\n",
    "\n",
    "        Returns\n",
    "        -------\n",
    "        final2DWalsh : ndarray\n",
    "            The transformed image.\n",
    "        \"\"\"\n",
    "        \n",
    "        N = imge.shape[0]\n",
    "        kernel = Walsh.computeKernel(N)\n",
    "\n",
    "        imge1DWalsh = np.dot(kernel, imge)        \n",
    "        final2DWalsh = np.dot(imge1DWalsh, kernel)\n",
    "\n",
    "        return final2DWalsh/N\n",
    "    \n",
    "    @classmethod\n",
    "    def computeInverse2DWalshTransform(self, imgeWalsh):\n",
    "        \"\"\"\n",
    "        Computes/generates the inverse of 2D Walsh transform.\n",
    "\n",
    "        Parameters\n",
    "        ----------\n",
    "        imgeWalsh : ndarray\n",
    "            The Walsh transformed image.\n",
    "\n",
    "        Returns\n",
    "        -------\n",
    "        imgeInverse : ndarray\n",
    "            The inverse of the transformed image.\n",
    "        \"\"\"\n",
    "        \n",
    "        N = imgeWalsh.shape[0]\n",
    "        kernel = Walsh.computeKernel(N)\n",
    "\n",
    "        imge1DInverse = np.dot(kernel, imgeWalsh)        \n",
    "        imgeInverse = np.dot(imge1DInverse, kernel)\n",
    "\n",
    "        return imgeInverse/N\n",
    "        "
   ]
  },
  {
   "cell_type": "markdown",
   "metadata": {},
   "source": [
    "<a name=\"WalshTesting\"></a>\n",
    "### Testing the Code"
   ]
  },
  {
   "cell_type": "markdown",
   "metadata": {},
   "source": [
    "Let's try to compute the 4x4 walsh kernel."
   ]
  },
  {
   "cell_type": "code",
   "execution_count": 4,
   "metadata": {},
   "outputs": [
    {
     "data": {
      "text/plain": [
       "array([[ 1.,  1.,  1.,  1.],\n",
       "       [ 1., -1.,  1., -1.],\n",
       "       [ 1.,  1., -1., -1.],\n",
       "       [ 1., -1., -1.,  1.]])"
      ]
     },
     "execution_count": 4,
     "metadata": {},
     "output_type": "execute_result"
    }
   ],
   "source": [
    "Walsh.computeKernel(4)"
   ]
  },
  {
   "cell_type": "markdown",
   "metadata": {},
   "source": [
    "Note: if we want to make the kernel orthonormal, we divide it by $\\sqrt N$. Now, we will compute the walsh transform of a given image.  First we will read an image from a file."
   ]
  },
  {
   "cell_type": "code",
   "execution_count": 5,
   "metadata": {
    "collapsed": true
   },
   "outputs": [],
   "source": [
    "#Read an image file\n",
    "imgeCameraman = Image.open(\"Images/cameraman.tif\") # open an image\n",
    "\n",
    "#Convert the image file to a matrix\n",
    "imgeCameraman = np.array(imgeCameraman)"
   ]
  },
  {
   "cell_type": "code",
   "execution_count": 6,
   "metadata": {
    "collapsed": true
   },
   "outputs": [],
   "source": [
    "imgeWalsh = Walsh.computeForward2DWalshTransform(imgeCameraman)"
   ]
  },
  {
   "cell_type": "markdown",
   "metadata": {},
   "source": [
    "The inverse of the transformed image can also be computed as follows:"
   ]
  },
  {
   "cell_type": "code",
   "execution_count": 7,
   "metadata": {
    "collapsed": true
   },
   "outputs": [],
   "source": [
    "imgeInverse = Walsh.computeInverse2DWalshTransform(imgeWalsh)"
   ]
  },
  {
   "cell_type": "markdown",
   "metadata": {},
   "source": [
    "The minimum and maximum values of the transformation are:"
   ]
  },
  {
   "cell_type": "code",
   "execution_count": 8,
   "metadata": {},
   "outputs": [
    {
     "data": {
      "text/plain": [
       "(0.0, 60576.76953125)"
      ]
     },
     "execution_count": 8,
     "metadata": {},
     "output_type": "execute_result"
    }
   ],
   "source": [
    "np.min(np.absolute(imgeWalsh)), np.max(np.absolute(imgeWalsh))"
   ]
  },
  {
   "cell_type": "markdown",
   "metadata": {},
   "source": [
    "We can visualize the original, the transformed and inverse transformed images as follows:"
   ]
  },
  {
   "cell_type": "code",
   "execution_count": 9,
   "metadata": {},
   "outputs": [
    {
     "data": {
      "image/png": "[encoded data removed]",
      "text/plain": [
       "<matplotlib.figure.Figure at 0x7f6542174790>"
      ]
     },
     "metadata": {},
     "output_type": "display_data"
    }
   ],
   "source": [
    "fig, axarr = plt.subplots(1, 3, figsize=(10,7))\n",
    "\n",
    "axarr[0].imshow(imgeCameraman, cmap=plt.get_cmap('gray'))\n",
    "axarr[0].set_title('Original Image')\n",
    "\n",
    "axarr[1].imshow(np.absolute(imgeWalsh), cmap=plt.get_cmap('gray'))\n",
    "axarr[1].set_title('Forward Transformed Image')\n",
    "\n",
    "axarr[2].imshow(imgeInverse, cmap=plt.get_cmap('gray'))\n",
    "axarr[2].set_title(\"Inverse Transformed Image\")\n",
    "plt.show()"
   ]
  },
  {
   "cell_type": "markdown",
   "metadata": {},
   "source": [
    "Now, let's compute the running time of Walsh tranform using images with different size"
   ]
  },
  {
   "cell_type": "code",
   "execution_count": 10,
   "metadata": {
    "collapsed": true
   },
   "outputs": [],
   "source": [
    "#Generate images\n",
    "imgSizes = [128, 64, 32, 16, 8]\n",
    "images = generateImages(imgSizes)"
   ]
  },
  {
   "cell_type": "code",
   "execution_count": 11,
   "metadata": {},
   "outputs": [
    {
     "name": "stdout",
     "output_type": "stream",
     "text": [
      "Computing for  128 x 128 image...\n",
      "Computing for  64 x 64 image...\n",
      "Computing for  32 x 32 image...\n",
      "Computing for  16 x 16 image...\n",
      "Computing for  8 x 8 image...\n"
     ]
    }
   ],
   "source": [
    "# A list that stores the running time of the DCT algorithm for images with different size.\n",
    "runningTimeWalsh = []\n",
    "\n",
    "#For each image...\n",
    "for i, imge in enumerate(images):\n",
    "    \n",
    "    #Compute the image size\n",
    "    N = imge.shape[0]\n",
    "    \n",
    "    print \"Computing for \", N, \"x\", N, \"image...\"\n",
    "    \n",
    "    #Save the starting time.\n",
    "    startTime = time.time()\n",
    "\n",
    "    #Compute the DCT of the image.\n",
    "    walshImge = Walsh.computeForward2DWalshTransform(imge)\n",
    "    \n",
    "    #Save the running time\n",
    "    runningTimeWalsh.append((time.time() - startTime)/60.0)"
   ]
  },
  {
   "cell_type": "code",
   "execution_count": 12,
   "metadata": {
    "collapsed": true
   },
   "outputs": [],
   "source": [
    "result = zip(imgSizes, runningTimeWalsh)\n",
    "np.savetxt(\"RunningTimes/runningTimeWalsh.csv\", np.array(result), delimiter=',')"
   ]
  },
  {
   "cell_type": "markdown",
   "metadata": {},
   "source": [
    "The running time will be visualized and compared with the other transformation methods in the next section. As it will be shown, Walsh is faster than DFT as it is only a square waveform where DFT is a complex, sinusoidal transformation."
   ]
  },
  {
   "cell_type": "markdown",
   "metadata": {},
   "source": [
    "## The Haar Transform"
   ]
  },
  {
   "cell_type": "markdown",
   "metadata": {},
   "source": [
    "<a name=\"HaarIntroduction\"></a>\n",
    "### Introduction"
   ]
  },
  {
   "cell_type": "markdown",
   "metadata": {
    "collapsed": true
   },
   "source": [
    "The Haar transform is also one type of the transformation methods. In contrast to Walsh, the kernel functions in Haar are not symmetric. So we need to transpose the first kernel when finding the second one.\n",
    "\n",
    "The forward transform is computed as follows:\n",
    "\n",
    "$ H(0, 0, x) = \\frac{1}{N} $\n",
    "\n",
    "$\n",
    "H(r, m, x) = \\left\\{\n",
    "  \\begin{array}{l l}\n",
    "   \\frac{2^{r/2}}{\\sqrt N} & \\quad \\text{$ \\frac{m-1}{2^r} \\leq x \\leq \\frac{m-1/2}{2^r}$ } \\\\\n",
    "   -\\frac{2^{r/2}}{\\sqrt N} & \\quad \\text{$ \\frac{m-1/2}{2^r} \\leq x \\leq \\frac{m}{2^r}$ }\\\\\n",
    "   0 & \\quad \\text{otherwise}\n",
    "  \\end{array} \\right.\n",
    "$\n",
    "\n",
    "Where $0 \\leq x < 1$, $0 \\leq r < log_2 N $ and $1 \\leq m \\leq 2^r$"
   ]
  },
  {
   "cell_type": "markdown",
   "metadata": {},
   "source": [
    "<a name=\"HaarImplementation\"></a>\n",
    "### Python Implementation"
   ]
  },
  {
   "cell_type": "markdown",
   "metadata": {},
   "source": [
    "It's implementation is as follows:"
   ]
  },
  {
   "cell_type": "code",
   "execution_count": 13,
   "metadata": {
    "collapsed": true
   },
   "outputs": [],
   "source": [
    "class Haar(object):\n",
    "    \"\"\"\n",
    "    This class Haar implements all the procedures for transforming a given 2D digital image\n",
    "    into its corresponding frequency-domain image (Haar Transform)\n",
    "    \"\"\"\n",
    "        \n",
    "    #Compute the Haar kernel.\n",
    "    @classmethod\n",
    "    def computeKernel(self, N):\n",
    "        \"\"\"\n",
    "        Computes/generates the haar kernel function.\n",
    "\n",
    "        Parameters\n",
    "        ----------\n",
    "        N : int\n",
    "            Size of the kernel to be generated.\n",
    "\n",
    "        Returns\n",
    "        -------\n",
    "        kernel : ndarray\n",
    "            The generated kernel as a matrix.\n",
    "        \"\"\"\n",
    "        \n",
    "        i = 0\n",
    "        kernel = np.zeros([N, N])\n",
    "        n = int(math.log(N, 2))\n",
    "\n",
    "        #Fill for the first row of the kernel\n",
    "        for j in xrange(N):\n",
    "            kernel[i, j] = 1.0/math.sqrt(N)\n",
    "\n",
    "\n",
    "        # For the other rows of the kernel....\n",
    "        i += 1\n",
    "        for r in xrange(n):\n",
    "             for m in xrange(1, (2**r)+1):\n",
    "                j=0\n",
    "                for x in np.arange(0, 1, 1.0/N):\n",
    "                    if (x >= (m-1.0)/(2**r)) and (x < (m-0.5)/(2**r)):\n",
    "                        kernel[i, j] = (2.0**(r/2.0))/math.sqrt(N)\n",
    "                    elif (x >= (m-0.5)/(2**r)) and (x < m/(2.0**r)):\n",
    "                        kernel[i, j] = -(2.0**(r/2.0))/math.sqrt(N)\n",
    "                    else:\n",
    "                        kernel[i, j] = 0\n",
    "                    j += 1\n",
    "                i += 1\n",
    "        return kernel\n",
    "\n",
    "    @classmethod\n",
    "    def computeForward2DHaarTransform(self, imge):\n",
    "        \"\"\"\n",
    "        Computes/generates the 2D Haar transform.\n",
    "\n",
    "        Parameters\n",
    "        ----------\n",
    "        imge : ndarray\n",
    "            The input image to be transformed.\n",
    "\n",
    "        Returns\n",
    "        -------\n",
    "        final2DHaar : ndarray\n",
    "            The transformed image.\n",
    "        \"\"\"\n",
    "        \n",
    "        N = imge.shape[0]\n",
    "        kernel = Haar.computeKernel(N)\n",
    "\n",
    "        imge1DHaar = np.dot(kernel, imge) \n",
    "        \n",
    "        #Transpose the kernel as it is not symmetric\n",
    "        final2DHaar = np.dot(imge1DHaar, kernel.T)\n",
    "\n",
    "        return final2DHaar/N\n",
    "    \n",
    "    @classmethod\n",
    "    def computeInverse2DHaarTransform(self, imgeHaar):\n",
    "        \"\"\"\n",
    "        Computes/generates the inverse of 2D Haar transform.\n",
    "\n",
    "        Parameters\n",
    "        ----------\n",
    "        imgeHaar : ndarray\n",
    "            The Haar transformed image.\n",
    "\n",
    "        Returns\n",
    "        -------\n",
    "        imgeInverse : ndarray\n",
    "            The inverse of the transformed image.\n",
    "        \"\"\"\n",
    "        \n",
    "        N = imgeHaar.shape[0]\n",
    "        kernel = Haar.computeKernel(N)\n",
    "\n",
    "        imge1DInverse = np.dot(kernel.T, imgeHaar)        \n",
    "        imgeInverse = np.dot(imge1DInverse, kernel)\n",
    "\n",
    "        return imgeInverse/N\n",
    "        "
   ]
  },
  {
   "cell_type": "markdown",
   "metadata": {},
   "source": [
    "<a name=\"HaarTesting\"></a>\n",
    "### Testing the Code"
   ]
  },
  {
   "cell_type": "markdown",
   "metadata": {},
   "source": [
    "Now let's try the 4x4 haar kernel:"
   ]
  },
  {
   "cell_type": "code",
   "execution_count": 14,
   "metadata": {},
   "outputs": [
    {
     "data": {
      "text/plain": [
       "array([[ 0.5       ,  0.5       ,  0.5       ,  0.5       ],\n",
       "       [ 0.5       ,  0.5       , -0.5       , -0.5       ],\n",
       "       [ 0.70710678, -0.70710678,  0.        ,  0.        ],\n",
       "       [ 0.        ,  0.        ,  0.70710678, -0.70710678]])"
      ]
     },
     "execution_count": 14,
     "metadata": {},
     "output_type": "execute_result"
    }
   ],
   "source": [
    "xKernel = Haar.computeKernel(4)\n",
    "xKernel"
   ]
  },
  {
   "cell_type": "markdown",
   "metadata": {},
   "source": [
    "Now, we will compute the haar transform of a given image."
   ]
  },
  {
   "cell_type": "code",
   "execution_count": 15,
   "metadata": {
    "collapsed": true
   },
   "outputs": [],
   "source": [
    "imgeHaar = Haar.computeForward2DHaarTransform(imgeCameraman)"
   ]
  },
  {
   "cell_type": "markdown",
   "metadata": {},
   "source": [
    "Now, let's return back to its original form by using the inverse Haar transform"
   ]
  },
  {
   "cell_type": "code",
   "execution_count": 16,
   "metadata": {
    "collapsed": true
   },
   "outputs": [],
   "source": [
    "imgeHaarInverse = Haar.computeInverse2DHaarTransform(imgeHaar)"
   ]
  },
  {
   "cell_type": "markdown",
   "metadata": {},
   "source": [
    "The range of the results of the Haar transform is:"
   ]
  },
  {
   "cell_type": "code",
   "execution_count": 17,
   "metadata": {},
   "outputs": [
    {
     "data": {
      "text/plain": [
       "(0.0, 118.31400299072266)"
      ]
     },
     "execution_count": 17,
     "metadata": {},
     "output_type": "execute_result"
    }
   ],
   "source": [
    "np.min(np.absolute(imgeHaar)), np.max(np.absolute(imgeHaar))"
   ]
  },
  {
   "cell_type": "markdown",
   "metadata": {},
   "source": [
    "We can now visualize the original, forward and inverse transformed images as follows:"
   ]
  },
  {
   "cell_type": "code",
   "execution_count": 18,
   "metadata": {},
   "outputs": [
    {
     "data": {
      "image/png": "[encoded data removed]",
      "text/plain": [
       "<matplotlib.figure.Figure at 0x7f6542174090>"
      ]
     },
     "metadata": {},
     "output_type": "display_data"
    }
   ],
   "source": [
    "fig, axarr = plt.subplots(1, 3, figsize=(10,7))\n",
    "\n",
    "axarr[0].imshow(imgeCameraman, cmap=plt.get_cmap('gray'))\n",
    "axarr[0].set_title('Original Image')\n",
    "\n",
    "axarr[1].imshow(np.absolute(imgeHaar), cmap=plt.get_cmap('gray'))\n",
    "axarr[1].set_title('Forward Transformed Image')\n",
    "\n",
    "axarr[2].imshow(imgeHaarInverse, cmap=plt.get_cmap('gray'))\n",
    "axarr[2].set_title(\"Inverse Transformed Image\")\n",
    "plt.show()"
   ]
  },
  {
   "cell_type": "markdown",
   "metadata": {},
   "source": [
    "Now, we will compute the running time of Haar Transform using images with different sizes:"
   ]
  },
  {
   "cell_type": "code",
   "execution_count": 19,
   "metadata": {},
   "outputs": [
    {
     "name": "stdout",
     "output_type": "stream",
     "text": [
      "Computing for  128 x 128 image...\n",
      "Computing for  64 x 64 image...\n",
      "Computing for  32 x 32 image...\n",
      "Computing for  16 x 16 image...\n",
      "Computing for  8 x 8 image...\n"
     ]
    }
   ],
   "source": [
    "#Generate images\n",
    "imgSizes = [128, 64, 32, 16, 8]\n",
    "images = generateImages(imgSizes)\n",
    "\n",
    "# A list that stores the running time of the DCT algorithm for images with different size.\n",
    "runningTimeHaar = []\n",
    "\n",
    "#For each image...\n",
    "for i, imge in enumerate(images):\n",
    "    \n",
    "    #Compute the image size\n",
    "    N = imge.shape[0]\n",
    "    \n",
    "    print \"Computing for \", N, \"x\", N, \"image...\"\n",
    "    \n",
    "    #Save the starting time.\n",
    "    startTime = time.time()\n",
    "\n",
    "    #Compute the Haar of the image.\n",
    "    haarImge = Haar.computeForward2DHaarTransform(imge)\n",
    "    \n",
    "    #Save the running time\n",
    "    runningTimeHaar.append((time.time() - startTime)/60.0)\n",
    "    \n",
    "result = zip(imgSizes, runningTimeHaar)\n",
    "np.savetxt(\"RunningTimes/runningTimeHaar.csv\", np.array(result), delimiter=',')"
   ]
  },
  {
   "cell_type": "code",
   "execution_count": 20,
   "metadata": {
    "collapsed": true
   },
   "outputs": [],
   "source": [
    "#Load the running time for DFT, Walsh, Haar Transforms\n",
    "runningTimeDFT = np.loadtxt(\"RunningTimes/runningTimeDFT.csv\", delimiter =',')\n",
    "runningTimeWalsh = np.loadtxt(\"RunningTimes/runningTimeWalsh.csv\", delimiter =',')\n",
    "runningTimeHaar = np.loadtxt(\"RunningTimes/runningTimeHaar.csv\", delimiter =',')"
   ]
  },
  {
   "cell_type": "code",
   "execution_count": 21,
   "metadata": {},
   "outputs": [
    {
     "name": "stdout",
     "output_type": "stream",
     "text": [
      "['128x128', '64x64', '32x32', '16x16', '8x8']\n"
     ]
    },
    {
     "data": {
      "image/png": "[encoded data removed]",
      "text/plain": [
       "<matplotlib.figure.Figure at 0x7f6541d74610>"
      ]
     },
     "metadata": {},
     "output_type": "display_data"
    }
   ],
   "source": [
    "#Plot the running times\n",
    "plt.plot(xrange(runningTimeDFT.shape[0]), runningTimeDFT[:,1], '-d')\n",
    "plt.hold\n",
    "plt.plot(xrange(runningTimeWalsh.shape[0]), runningTimeWalsh[:,1], '-d')\n",
    "plt.plot(xrange(runningTimeHaar.shape[0]), runningTimeHaar[:,1], '-d')\n",
    "\n",
    "xlabels = [str(int(imge)) + 'x' + str(int(imge)) for imge in runningTimeDFT[:, 0]]\n",
    "print xlabels\n",
    "plt.xticks(xrange(len(runningTimeDFT[:, 0])), xlabels)\n",
    "plt.xlabel(\"Image Size(Pixels)\")\n",
    "plt.ylabel(\"Time(Sec)\")\n",
    "plt.legend(['DFT', 'Walsh', 'Haar'])\n",
    "plt.show()"
   ]
  },
  {
   "cell_type": "markdown",
   "metadata": {},
   "source": [
    "As we can see from the graph above, both Walsh and Haar are faster than DFT but are not as precise as the DFT. Because DFT is a complex sinusoidal wave."
   ]
  },
  {
   "cell_type": "code",
   "execution_count": null,
   "metadata": {
    "collapsed": true
   },
   "outputs": [],
   "source": []
  }
 ],
 "metadata": {
  "anaconda-cloud": {},
  "kernelspec": {
   "display_name": "Python 2",
   "language": "python",
   "name": "python2"
  },
  "language_info": {
   "codemirror_mode": {
    "name": "ipython",
    "version": 2
   },
   "file_extension": ".py",
   "mimetype": "text/x-python",
   "name": "python",
   "nbconvert_exporter": "python",
   "pygments_lexer": "ipython2",
   "version": "2.7.13"
  }
 },
 "nbformat": 4,
 "nbformat_minor": 1
}
