{
 "cells": [
  {
   "cell_type": "markdown",
   "metadata": {},
   "source": [
    "# Implementing Discrete Fourier Transform(DFT) Using Python"
   ]
  },
  {
   "cell_type": "markdown",
   "metadata": {},
   "source": [
    "## Table of Contents\n",
    "* [Introduction](#Introduction)\n",
    "* [Python Implementation](#Implementation)\n",
    "* [Testing the Code](#Testing)\n",
    "* [Conclusion](#Conclusion)"
   ]
  },
  {
   "cell_type": "markdown",
   "metadata": {},
   "source": [
    "<a name=\"Introduction\"></a>"
   ]
  },
  {
   "cell_type": "markdown",
   "metadata": {},
   "source": [
    "## Introduction"
   ]
  },
  {
   "cell_type": "markdown",
   "metadata": {},
   "source": [
    "Digital images are usually stored and displayed in **space domain**. That is, each point/pixel in the image contains an integer value that shows the color intensity value. For example, if we have 8x8 image, then there are 64 values that are stored in each pixel location.\n",
    "\n",
    "However, images can be transformed in to their corresponding **frequecy domain** representation. The advantage of the transformation is that several image processing tasks are well done in their transformed format. For example, they can be used for:\n",
    "\n",
    "* *Image Enhancement*\n",
    "* *Image Restoration*\n",
    "* *Image Coding*\n",
    "* *Image Compression*\n",
    "\n",
    "Then, after these processes are performed, the processed image can be returned back to its original space domain form by using inverse transform process. There are several types of transforms, such as:\n",
    "\n",
    "* *Discrete Fourier Transform (DFT)*\n",
    "* *Discrete Cosine Transform (DCT)*\n",
    "* *Walsh-Hadamard Transform*\n",
    "* *Haar Transform*\n",
    "\n",
    "In this homework, we are only concerned with DFT. \n",
    "\n",
    "A 2-dimensional DFT (2D-DFT) decomposes an image into its sinusoidal components (sines and cosines). As explained above, the input is the image in its **spatial domain**. In contrast, the output will be the image's representation in its fourier or **frequency domain**. DFT is a complex number transform as it has both the real (cosine) and imaginary (sine) components as an output.\n",
    "\n",
    "Let the size of an input image be NxN. The general form is:\n",
    "\n",
    "$$\n",
    "\\begin{align}\n",
    "F(u,v) = \\frac{1}{N^2}\\sum_{x=0}^{N-1}\\sum_{y=0}^{N-1}f(x,y) e^{(-j2\\pi\\frac{ux+vy}{N})} \\; where \\; u,v=0,1,2,...N-1\n",
    "\\end{align}\n",
    "$$\n",
    "\n",
    "The above formula is **forward DFT transformation**.\n",
    "\n",
    "Similarly, for **inverse DFT transformation**:\n",
    "$$\n",
    "\\begin{align}\n",
    "f(u,v) = \\sum_{u=0}^{N-1}\\sum_{v=0}^{N-1}F(u,v) e^{(+j2\\pi\\frac{ux+vy}{N})} \\; where \\; x,y=0,1,2,...N-1\n",
    "\\end{align}\n",
    "$$\n",
    "\n",
    "* $ k(x,y,u,v)=e^{(-j2\\pi\\frac{ux+vy}{N})} $ is called **basis function (kernel function)**\n",
    "\n",
    "To find the real and imaginary part of the transformed image:\n",
    "\n",
    "$$\n",
    "\\begin{align}\n",
    "* e^{\\pm jx} = \\cos(x)\\pm j\\sin(x)\n",
    "\\end{align}\n",
    "$$\n",
    "\n",
    "Since the kernel function in DFT is separable:\n",
    "$$\\begin{align}\n",
    "k(x,y,u,v)=e^{(-j2\\pi\\frac{ux+vy}{N})} = e^{(-j2\\pi\\frac{ux}{N})}e^{(-j2\\pi\\frac{vy}{N})}\n",
    "\\end{align}$$\n",
    "\n",
    "$$\\begin{align}\n",
    "k(x,y,u,v) = k_1(x,u).k_2(v,y)\n",
    "\\end{align}\n",
    "$$\n",
    "\n",
    "So, the 2D-DFT formula can be computed as a sequence of two 1D-DFT transform. That is, each row of the original image is transformed and then each column of the previous result is transformed. This can be visualized as follows and was taken from [here](http://web.cs.wpi.edu/~emmanuel/courses/cs545/S14/slides/lecture10.pdf):\n",
    "\n",
    "![2D-DFT Separability](Images/DFT-Separability.png \"2D-DFT Separability\")\n",
    "\n",
    "Similarly, we can also apply the same technique to compute the inverse transformation:\n",
    "\n",
    "For the forward transformation:\n",
    "\n",
    "$$\\begin{align}\n",
    "F(u, v) = k_f(u,x) \\;f(x,y) \\; k_f(y,v)^{T*} \\; where \\; T* = Matrix \\; transpose \\; and \\; conjugate \n",
    "\\end{align}\n",
    "$$\n",
    "\n",
    "And for the inverse transformation:\n",
    "\n",
    "$$\\begin{align}\n",
    "f(x, y) = k_i(x,u) \\; F(u,v) \\; k_i^{T*} \n",
    "\\end{align}\n",
    "$$\n",
    "\n",
    "Where:\n",
    "* $ k_f $ = **kernel** function of the **forward** transformation\n",
    "\n",
    "* $ k_i $= **kernel** function of the **inverse** transformation*\n",
    "\n",
    "* $ k_i = k_f^{-1} $ and $ k_i = k_f^T $ (Since the kernel function is **orthogonal**).\n",
    "\n",
    "* And $ k_f = k_f^{T}$ (Since it is a **symmetric** function)\n",
    "\n",
    "* So, $ k_i = k_f^{*T}$\n",
    "\n",
    "Therefore:\n",
    "$$\\begin{align}\n",
    "f(x, y) = k_f(x,u)^{*} \\; F(u,v) \\; k_f\n",
    "\\end{align}\n",
    "$$\n",
    "\n",
    "In the next section, the forward DFT will be implemented in python. Finally they will be tested with images of different sizes. And their running time will be computed and visualized."
   ]
  },
  {
   "cell_type": "markdown",
   "metadata": {},
   "source": [
    "<a name=\"Implementation\"></a>"
   ]
  },
  {
   "cell_type": "markdown",
   "metadata": {
    "collapsed": true
   },
   "source": [
    "## Python Implementation"
   ]
  },
  {
   "cell_type": "markdown",
   "metadata": {},
   "source": [
    "First of all, let's import the necessary python libraries"
   ]
  },
  {
   "cell_type": "code",
   "execution_count": 2,
   "metadata": {
    "collapsed": true
   },
   "outputs": [],
   "source": [
    "import numpy as np\n",
    "\n",
    "import matplotlib.pyplot as plt\n",
    "%matplotlib inline\n",
    "\n",
    "#import matplotlib.image as img\n",
    "import PIL.Image as Image \n",
    "\n",
    "import math\n",
    "import cmath\n",
    "\n",
    "import time\n",
    "\n",
    "import csv"
   ]
  },
  {
   "cell_type": "markdown",
   "metadata": {},
   "source": [
    "Now let's start with creating common image functions."
   ]
  },
  {
   "cell_type": "code",
   "execution_count": 3,
   "metadata": {
    "collapsed": true
   },
   "outputs": [],
   "source": [
    "def generateBlackAndWhiteSquareImage(imgSize):\n",
    "    \"\"\"\n",
    "    Generates a square-sized black and white image with a given input size.\n",
    "\n",
    "    Parameters\n",
    "    ----------\n",
    "    imgSize : int\n",
    "        Input number that stores the dimension of the square image to be generated.\n",
    "\n",
    "    Returns\n",
    "    -------\n",
    "    imge : ndarray\n",
    "        The generated black and white square image.\n",
    "    \"\"\"\n",
    "\n",
    "    #Creating a matrix with a given size where all the stored values are only zeros (for initialization)\n",
    "    imge = np.zeros([imgSize, imgSize], dtype=int)\n",
    "\n",
    "    #Starting and ending indices of the white part of the image.\n",
    "    ind1 = imgSize/4\n",
    "    ind2 = ind1 + (imgSize/2)\n",
    "\n",
    "    #Make a part of the image as white (255)\n",
    "    imge[ind1:ind2, ind1:ind2] = np.ones([imgSize/2, imgSize/2], dtype=int)*255\n",
    "\n",
    "    #return the resulting image\n",
    "    return imge\n",
    "    \n",
    "def generateImagesWithResizedWhite(imge):\n",
    "    \"\"\"\n",
    "    Generates images with the same size as the original but with a resized white part of them.\n",
    "    \"\"\"\n",
    "\n",
    "    N = imge.shape[0]\n",
    "\n",
    "    imges = []\n",
    "    i = N/2\n",
    "    while i >= 4:\n",
    "        j = (N - i)/2\n",
    "\n",
    "        #Starting and ending indices for the white part.\n",
    "        indx1 = j\n",
    "        indx2 = j+i\n",
    "\n",
    "        #Draw the image.\n",
    "        imgeNew = np.zeros([N, N],dtype=int)\n",
    "        imgeNew[indx1:indx2, indx1:indx2] = np.ones([i, i], dtype=int)*255\n",
    "\n",
    "        #Add the image to the list.\n",
    "        imges.append(imgeNew)\n",
    "\n",
    "        i = i/2\n",
    "\n",
    "    return imges\n",
    "\n",
    "def resizeImage(imge, newSize):        \n",
    "    \"\"\"\n",
    "    Reduces the size of the given image.\n",
    "\n",
    "    Parameters\n",
    "    ----------\n",
    "    imge : ndarray\n",
    "        Input array that stores the image to be resized.\n",
    "\n",
    "    Returns\n",
    "    -------\n",
    "    newSize : int\n",
    "        The size of the newly generated image.\n",
    "    \"\"\"\n",
    "\n",
    "    #Compute the size of the original image (in this case, only # of rows as it is square)\n",
    "    N = imge.shape[0]\n",
    "\n",
    "    #The ratio of the original image as compared to the new one.\n",
    "    stepSize = N/newSize\n",
    "\n",
    "    #Creating a new matrix (image) with a black color (values of zero)\n",
    "    newImge = np.zeros([N/stepSize, N/stepSize])\n",
    "\n",
    "    #Average the adjacent four pixel values to compute the new intensity value for the new image.\n",
    "    for i in xrange(0, N, stepSize):\n",
    "        for j in xrange(0, N, stepSize):\n",
    "            newImge[i/stepSize, j/stepSize] = np.mean(imge[i:i+stepSize, j:j+stepSize])\n",
    "\n",
    "    #Return the new image\n",
    "    return newImge\n"
   ]
  },
  {
   "cell_type": "markdown",
   "metadata": {},
   "source": [
    "As a next step, the main class that implements a 2D DFT. Both the forward and inverse DFT will be implemented here.\n",
    "\n",
    "*<u>Note:</u> All the input images are assumed to be square in size. But the implementation can easily be modified to work with rectangular images (not squares).*"
   ]
  },
  {
   "cell_type": "code",
   "execution_count": 4,
   "metadata": {
    "collapsed": true
   },
   "outputs": [],
   "source": [
    "class DFT(object):\n",
    "    \"\"\"\n",
    "    This class DFT implements all the procedures for transforming a given 2D digital image\n",
    "    into its corresponding frequency-domain image (Forward DFT Transform)\n",
    "    \"\"\"\n",
    "    \n",
    "    @classmethod\n",
    "    def __computeConjugate(self, mat):\n",
    "        \"\"\"\n",
    "        Computes the conjugate of a complex square-matrix.\n",
    "\n",
    "        Parameters\n",
    "        ----------\n",
    "        mat : ndarray\n",
    "            Input matrix of complex numbers.\n",
    "\n",
    "        Returns\n",
    "        -------\n",
    "        result : ndarray\n",
    "            The conjugate of the input matrix.\n",
    "        \"\"\"\n",
    "        \n",
    "        N = mat.shape[0]\n",
    "        result = np.zeros([N, N], dtype=np.complex)\n",
    "        \n",
    "        for i in range(N):\n",
    "            for j in range(N):\n",
    "                result[i, j] = (mat[i, j].real) - (mat[i, j].imag*1j)\n",
    "\n",
    "        return result\n",
    "    \n",
    "    @classmethod\n",
    "    def __multiplyMatrices(self, mat1, mat2):\n",
    "        \"\"\"\n",
    "        Computes the multiplication of two complex square matrices.\n",
    "\n",
    "        Parameters\n",
    "        ----------\n",
    "        mat1 : ndarray\n",
    "            First input matrix of complex numbers.\n",
    "        mat2 : ndarray\n",
    "            Second input matrix of complex numbers.\n",
    "            \n",
    "        Returns\n",
    "        -------\n",
    "        result : ndarray\n",
    "            The multiplication result of the two matrices.\n",
    "        \"\"\"\n",
    "        \n",
    "        N = mat1.shape[0]\n",
    "        \n",
    "        result = np.zeros([N, N], np.complex)\n",
    "        #For each column and row...\n",
    "        for i in range(N):\n",
    "            row = mat1[i, :]\n",
    "            for j in range(N):\n",
    "                col = mat2[j, :]\n",
    "                total = 0 + 0j\n",
    "                for k in range(N):\n",
    "                    total += row[k]*col[k]\n",
    "                result[i, j] = total\n",
    "        \n",
    "        return result\n",
    "        \n",
    "    #Compute the two separable kernels for the forward DFT.\n",
    "    @classmethod\n",
    "    def computeXForwardKernel(self, size):\n",
    "        \"\"\"\n",
    "        Computes/generates the first forward kernel function.\n",
    "\n",
    "        Parameters\n",
    "        ----------\n",
    "        size : int\n",
    "            Size of the kernel to be generated.\n",
    "\n",
    "        Returns\n",
    "        -------\n",
    "        xKernel : ndarray\n",
    "            The generated kernel as a matrix.\n",
    "        \"\"\"\n",
    "        \n",
    "        #Initialize the kernel\n",
    "        xKernel = np.zeros([size, size], dtype=np.complex)\n",
    "        \n",
    "        #Compute each value of the kernel...\n",
    "        for u in range(size):\n",
    "            for x in range(size):\n",
    "                \n",
    "                #Rounding it is used here for making the values integers as it will insert very small fractions.\n",
    "                xKernel[u, x] = math.cos((2*math.pi*u*x)/size) - (1j*math.sin((2*math.pi*u*x)/size))\n",
    "        \n",
    "        #Return the resulting kernel\n",
    "        return xKernel\n",
    "\n",
    "    @classmethod\n",
    "    def computeYForwardKernel(self, xKernel):\n",
    "        \"\"\"\n",
    "        Computes/generates the second forward kernel function.\n",
    "\n",
    "        Parameters\n",
    "        ----------\n",
    "        xKernel : ndarray\n",
    "            The first forward kernel function.\n",
    "\n",
    "        Returns\n",
    "        -------\n",
    "        yKernel : ndarray\n",
    "            The generated kernel as a matrix.\n",
    "        \"\"\"\n",
    "        #yKernel = np.conj(xKernel) ## In numpy package.\n",
    "        N = xKernel.shape[0]\n",
    "        \n",
    "        #For each value, find the conjugate...\n",
    "        yKernel = np.zeros([N, N], dtype=np.complex)\n",
    "        for i in range(N):\n",
    "            for j in range(N):\n",
    "                yKernel[i, j] = (xKernel[i, j].real) - (xKernel[i, j].imag*1j)\n",
    "                \n",
    "        # Return the resulting kernel (Since the original kernel is symmetric, transpose is not needed)\n",
    "        return yKernel\n",
    "    \n",
    "    @classmethod\n",
    "    def computeCenteredImage(self, imge):\n",
    "        \"\"\"\n",
    "        Centers a given image.\n",
    "\n",
    "        Parameters\n",
    "        ----------\n",
    "        imge : ndarray\n",
    "            Input array that stores the image to be centered.\n",
    "\n",
    "        Returns\n",
    "        -------\n",
    "        newImge : int\n",
    "            The new and centered version of the input image.\n",
    "        \"\"\"\n",
    "        \n",
    "        #Compute the dimensions of the image\n",
    "        M, N = imge.shape\n",
    "        #centeringMatrix = np.zeros([M, N], dtype=int)\n",
    "        newImge = np.zeros([M, N], dtype=int)\n",
    "        for x in range(M):\n",
    "            for y in range(N):\n",
    "                newImge[x, y] = imge[x, y] * ((-1)**(x+y))\n",
    "\n",
    "        #newImge = imge * centeringMatrix\n",
    "        return newImge\n",
    "    \n",
    "    @classmethod\n",
    "    def computeForward2DDFTWithSeparability(self, imge):\n",
    "        \"\"\"\n",
    "        Computes/generates the 2D DFT by computing the two forward kernels first (Separability).\n",
    "\n",
    "        Parameters\n",
    "        ----------\n",
    "        imge : ndarray\n",
    "            The input image to be transformed.\n",
    "\n",
    "        Returns\n",
    "        -------\n",
    "        final2DDFT : ndarray\n",
    "            The transformed image.\n",
    "        \"\"\"\n",
    "        \n",
    "        N = imge.shape[0]\n",
    "        xKernel = DFT.computeXForwardKernel(N)\n",
    "        yKernel = DFT.computeYForwardKernel(xKernel)\n",
    "\n",
    "        #row1DDFT = (1.0/size) * np.dot(xKernel, imge)\n",
    "        intermediate2DDFT = (1.0/N) * DFT.__multiplyMatrices(xKernel, imge)\n",
    "        final2DDFT = (1.0/N) * DFT.__multiplyMatrices(intermediate2DDFT, yKernel)\n",
    "\n",
    "        return final2DDFT\n",
    "        \n",
    "    @classmethod\n",
    "    def __computeSinglePoint2DFT(self, imge, u, v, N):\n",
    "        \"\"\"\n",
    "        A private method that computes a single value of the 2DDFT from a given image.\n",
    "\n",
    "        Parameters\n",
    "        ----------\n",
    "        imge : ndarray\n",
    "            The input image.\n",
    "        \n",
    "        u : ndarray\n",
    "            The index in x-dimension.\n",
    "            \n",
    "        v : ndarray\n",
    "            The index in y-dimension.\n",
    "\n",
    "        N : int\n",
    "            Size of the image.\n",
    "            \n",
    "        Returns\n",
    "        -------\n",
    "        result : complex number\n",
    "            The computed single value of the DFT.\n",
    "        \"\"\"\n",
    "        result = 0 + 0j\n",
    "        for x in xrange(N):\n",
    "            for y in xrange(N):\n",
    "                result += (imge[x, y] * (math.cos((2*math.pi*(u*x + v*y))/N) - \n",
    "                                         (1j*math.sin((2*math.pi*(u*x + v*y))/N))))\n",
    "        return result\n",
    "    \n",
    "    @classmethod\n",
    "    def computeForward2DDFTNoSeparability(self, imge):\n",
    "        \"\"\"\n",
    "        Computes/generates the 2D DFT by computing without separating the kernels.\n",
    "\n",
    "        Parameters\n",
    "        ----------\n",
    "        imge : ndarray\n",
    "            The input image to be transformed.\n",
    "\n",
    "        Returns\n",
    "        -------\n",
    "        final2DDFT : ndarray\n",
    "            The transformed image.\n",
    "        \"\"\"\n",
    " \n",
    "        # Assuming a square image\n",
    "        N = imge.shape[0]\n",
    "        final2DDFT = np.zeros([N, N], dtype=np.complex)\n",
    "        for u in xrange(N):\n",
    "            for v in xrange(N):\n",
    "                #Compute the DFT value for each cells/points in the resulting transformed image.\n",
    "                final2DDFT[u, v] = DFT.__computeSinglePoint2DFT(imge, u, v, N)\n",
    "        return ((1.0/(N**2))*final2DDFT)\n",
    "    \n",
    "    @classmethod\n",
    "    def computeInverse2DDFTWithSeparability(self, dftImge):\n",
    "        \"\"\"\n",
    "        Computes the inverse 2D DFT by computing the two inverse kernels first (Separability).\n",
    "\n",
    "        Parameters\n",
    "        ----------\n",
    "        dftImge : ndarray\n",
    "            The dft transformed image as input.\n",
    "\n",
    "        Returns\n",
    "        -------\n",
    "        imge : ndarray\n",
    "            The resulting image in spatial domain from the inverse DFT.\n",
    "        \"\"\"\n",
    "        \n",
    "        N = dftImge.shape[0]\n",
    "        \n",
    "        #Here the kernels are interchanged from the forward DFT\n",
    "        yKernel = DFT.computeXForwardKernel(N)\n",
    "        xKernel = DFT.computeYForwardKernel(yKernel)\n",
    "\n",
    "        intermediateImge = DFT.__multiplyMatrices(xKernel, dftImge)\n",
    "        imge = DFT.__multiplyMatrices(intermediateImge, yKernel)\n",
    "        \n",
    "        #imge = np.real(imge)\n",
    "\n",
    "        return imge       \n",
    "\n",
    "    @classmethod\n",
    "    def compute2DDFTFourierSpectrum(self, dftImge):\n",
    "        \"\"\"\n",
    "        Computes the fourier spectrum of the transformed image.\n",
    "\n",
    "        Parameters\n",
    "        ----------\n",
    "        dftImge : ndarray\n",
    "            The input transformed image.\n",
    "\n",
    "        Returns\n",
    "        -------\n",
    "        fourierSpect : ndarray\n",
    "            The computed fourier spectrum.\n",
    "        \"\"\"\n",
    "        N = dftImge.shape[0]\n",
    "        \n",
    "        fourierSpect = np.zeros([N, N], dtype=float)\n",
    "        #Calculate the magnitude of each point(complex number) in the DFT image\n",
    "        for i in xrange(N):\n",
    "            for j in xrange(N):\n",
    "                v = dftImge[i, j]\n",
    "                fourierSpect[i, j] = math.sqrt((v.real)**2 + (v.imag)**2)\n",
    "        return fourierSpect\n",
    "    \n",
    "    @classmethod\n",
    "    def normalize2DDFTByLog(self, dftImge):\n",
    "        \"\"\"\n",
    "        Computes the log transformation of the transformed DFT image to make the range\n",
    "        of the fourier values b/n 0 to 255\n",
    "        \n",
    "        Parameters\n",
    "        ----------\n",
    "        dftImge : ndarray\n",
    "            The input transformed image.\n",
    "\n",
    "        Returns\n",
    "        -------\n",
    "        dftNormImge : ndarray\n",
    "            The normalized version of the transformed image.\n",
    "        \"\"\"\n",
    "        \n",
    "        #Compute the fourier spectrum of the transformed image:\n",
    "        dftFourierSpect = DFT.compute2DDFTFourierSpectrum(dftImge)\n",
    "        \n",
    "        #Normalize the fourier spectrum values:\n",
    "        dftNormFourierSpect = (255.0/ math.log10(255)) * np.log10(1 + (255.0/(np.max(dftFourierSpect))*dftFourierSpect))\n",
    "        \n",
    "        return dftNormFourierSpect\n",
    "        "
   ]
  },
  {
   "cell_type": "markdown",
   "metadata": {},
   "source": [
    "<a name=\"Testing\"></a>"
   ]
  },
  {
   "cell_type": "markdown",
   "metadata": {},
   "source": [
    "<a name=\"Testing\"></a>"
   ]
  },
  {
   "cell_type": "markdown",
   "metadata": {
    "collapsed": true
   },
   "source": [
    "## Testing the Code and Visualizing the DFT Running Time"
   ]
  },
  {
   "cell_type": "markdown",
   "metadata": {},
   "source": [
    "### Testing the DFT algorithm"
   ]
  },
  {
   "cell_type": "markdown",
   "metadata": {},
   "source": [
    "For testing purposes, the 4x4 separable DFT kernels are computed:"
   ]
  },
  {
   "cell_type": "code",
   "execution_count": 5,
   "metadata": {},
   "outputs": [
    {
     "name": "stdout",
     "output_type": "stream",
     "text": [
      "The first 4x4 forward kernel:\n"
     ]
    },
    {
     "data": {
      "text/plain": [
       "array([[ 1.+0.j,  1.+0.j,  1.+0.j,  1.+0.j],\n",
       "       [ 1.+0.j,  0.-1.j, -1.-0.j, -0.+1.j],\n",
       "       [ 1.+0.j, -1.-0.j,  1.+0.j, -1.-0.j],\n",
       "       [ 1.+0.j, -0.+1.j, -1.-0.j,  0.-1.j]])"
      ]
     },
     "execution_count": 5,
     "metadata": {},
     "output_type": "execute_result"
    }
   ],
   "source": [
    "# The numbers are rounded for visualization\n",
    "xKernel = np.round(DFT.computeXForwardKernel(4))\n",
    "print \"The first 4x4 forward kernel:\"\n",
    "xKernel"
   ]
  },
  {
   "cell_type": "code",
   "execution_count": 6,
   "metadata": {},
   "outputs": [
    {
     "name": "stdout",
     "output_type": "stream",
     "text": [
      "The first 4x4 forward kernel:\n"
     ]
    },
    {
     "data": {
      "text/plain": [
       "array([[ 1.+0.j,  1.+0.j,  1.+0.j,  1.+0.j],\n",
       "       [ 1.+0.j,  0.+1.j, -1.+0.j, -0.-1.j],\n",
       "       [ 1.+0.j, -1.+0.j,  1.+0.j, -1.+0.j],\n",
       "       [ 1.+0.j, -0.-1.j, -1.+0.j,  0.+1.j]])"
      ]
     },
     "execution_count": 6,
     "metadata": {},
     "output_type": "execute_result"
    }
   ],
   "source": [
    "# The second kernel is the conjugate of the first (as the kernels are symmetric, we don't need to transpose)\n",
    "yKernel = np.round(DFT.computeYForwardKernel(xKernel))\n",
    "print \"The first 4x4 forward kernel:\"\n",
    "yKernel"
   ]
  },
  {
   "cell_type": "markdown",
   "metadata": {},
   "source": [
    "Here, we generate an 8-bit gray scale image as a 64x64 matrix"
   ]
  },
  {
   "cell_type": "code",
   "execution_count": 7,
   "metadata": {
    "collapsed": true
   },
   "outputs": [],
   "source": [
    "imge = generateBlackAndWhiteSquareImage(64)"
   ]
  },
  {
   "cell_type": "markdown",
   "metadata": {},
   "source": [
    "Generate images of the same size as above but with different white part size:"
   ]
  },
  {
   "cell_type": "code",
   "execution_count": 8,
   "metadata": {
    "collapsed": true
   },
   "outputs": [],
   "source": [
    "imges = generateImagesWithResizedWhite(imge)"
   ]
  },
  {
   "cell_type": "markdown",
   "metadata": {},
   "source": [
    "To test the DFT with different images having different white size:\n",
    "\n",
    "Here, we will generate the images, compute the DFT and visualize the results:"
   ]
  },
  {
   "cell_type": "code",
   "execution_count": 9,
   "metadata": {},
   "outputs": [
    {
     "data": {
      "image/png": "[encoded data removed]",
      "text/plain": [
       "<matplotlib.figure.Figure at 0x7fc59db29e90>"
      ]
     },
     "metadata": {},
     "output_type": "display_data"
    }
   ],
   "source": [
    "#For visualization:\n",
    "N = len(imges) \n",
    "fig, axarr = plt.subplots(N, 4, figsize=(13, 13))\n",
    "\n",
    "#Compute DFT for each generated image...\n",
    "dftImges = []\n",
    "for i, imge in enumerate(imges):\n",
    "    \n",
    "    #Center the generated image\n",
    "    centeredImge = DFT.computeCenteredImage(imge)\n",
    "    \n",
    "    #Compute the 2D DFT transformation for both centered and uncentered images:\n",
    "    dftUncenteredImge = DFT.computeForward2DDFTWithSeparability(imge)\n",
    "    dftCenteredImge = DFT.computeForward2DDFTWithSeparability(centeredImge)\n",
    "    \n",
    "    #Save the centered DFT images...\n",
    "    dftImges.append(dftCenteredImge)\n",
    "    \n",
    "    #Normalize the computed DFT results:\n",
    "    dftUncenteredNormImge = DFT.normalize2DDFTByLog(dftUncenteredImge)\n",
    "    dftCenteredNormImge = DFT.normalize2DDFTByLog(dftCenteredImge)\n",
    "    \n",
    "    #Display the normalized versions of the centered and uncentered images\n",
    "    axarr[i][0].imshow(imge, cmap=plt.get_cmap('gray'), vmin=0, vmax=255)\n",
    "    axarr[i][0].set_title('Original Image')\n",
    "\n",
    "    axarr[i][1].imshow(dftUncenteredNormImge, cmap=plt.get_cmap('gray'), vmin=0, vmax=255)\n",
    "    axarr[i][1].set_title('Normalized Uncentered DFT')\n",
    "\n",
    "    axarr[i][2].imshow(DFT.compute2DDFTFourierSpectrum(dftCenteredImge), cmap=plt.get_cmap('gray'))\n",
    "    axarr[i][2].set_title('Unnormalized Centered DFT')\n",
    "\n",
    "    axarr[i][3].imshow(dftCenteredNormImge, cmap=plt.get_cmap('gray'), vmin=0, vmax=255)\n",
    "    axarr[i][3].set_title('Normalized Centered DFT')\n",
    "    \n",
    "#fig.suptitle(\"DFT FOR 64x64 IMAGES HAVING DIFFERENT WHITE COLOR SIZE\")\n",
    "#fig.subplots_adjust(top=2)\n",
    "plt.show()"
   ]
  },
  {
   "cell_type": "markdown",
   "metadata": {},
   "source": [
    "From the above results, we can see that the white color size in the original and transformed images are inversely proportional. This is similar to $\\delta x \\; and \\; \\frac{1}{\\delta x} $ which are inversely proportional to one another."
   ]
  },
  {
   "cell_type": "markdown",
   "metadata": {},
   "source": [
    "Now let's compute the inverse DFT on the transformed images to check the correctness of our code:"
   ]
  },
  {
   "cell_type": "code",
   "execution_count": 10,
   "metadata": {},
   "outputs": [
    {
     "data": {
      "image/png": "[encoded data removed]",
      "text/plain": [
       "<matplotlib.figure.Figure at 0x7fc5bd030250>"
      ]
     },
     "metadata": {},
     "output_type": "display_data"
    }
   ],
   "source": [
    "#For visualization:\n",
    "N = len(dftImges)\n",
    "fig, axarr = plt.subplots(2, 2, figsize=(10,7))\n",
    "\n",
    "#Compute the inverse DFT for only the first two transformed images...\n",
    "for i, dftImge in enumerate(dftImges[:2]):\n",
    "    \n",
    "    #Compute the inverse DFT and take the real part\n",
    "    imge = np.real(DFT.computeInverse2DDFTWithSeparability(dftImge))\n",
    "    \n",
    "    #Due to the floating point precision, we can get very small decimal points,\n",
    "    #So let's round them to the nearest integer.\n",
    "    imge = np.round(imge)\n",
    "    \n",
    "    #Since the images were originally centered, let's decenter them now\n",
    "    imge = DFT.computeCenteredImage(imge)\n",
    "    \n",
    "    #Display the dft and the resulting images found with inverse DFT:\n",
    "    dftNormImge = DFT.normalize2DDFTByLog(dftImge)\n",
    "    axarr[i][0].imshow(dftNormImge, cmap=plt.get_cmap('gray'))\n",
    "    axarr[i][0].set_title('Centered DFT Image')\n",
    "    \n",
    "    axarr[i][1].imshow(imge, cmap=plt.get_cmap('gray'))\n",
    "    axarr[i][1].set_title('Original Image')\n",
    "\n",
    "#fig.suptitle(\"The original 64x64 images found by applying inverse DFT\", fontsize=14)\n",
    "#fig.subplots_adjust(top=1.55)\n",
    "\n",
    "plt.show()"
   ]
  },
  {
   "cell_type": "markdown",
   "metadata": {},
   "source": [
    "### Computing and Visualizing the DFT Running Time"
   ]
  },
  {
   "cell_type": "markdown",
   "metadata": {},
   "source": [
    "In this part, we will compute and visualize the running time of DFT for different image sizes.\n",
    "\n",
    "First, the images with different sizes are generated:"
   ]
  },
  {
   "cell_type": "code",
   "execution_count": 11,
   "metadata": {
    "collapsed": true
   },
   "outputs": [],
   "source": [
    "def generateImages(imgSizes=[128, 64, 32, 16, 8]): \n",
    "\n",
    "    #Create an empty list of images to save the generated images with different sizes.\n",
    "    images = []\n",
    "\n",
    "    #Generate the first and biggest image\n",
    "    imge = generateBlackAndWhiteSquareImage(imgSizes[0])\n",
    "\n",
    "    #Add to the images list\n",
    "    images.append(imge)\n",
    "\n",
    "    #Generate the resized and smaller images with different sizes.\n",
    "    for i in range(1, len(imgSizes)):\n",
    "        size = imgSizes[i]\n",
    "        images.append(resizeImage(imge, size))\n",
    "        \n",
    "    return images"
   ]
  },
  {
   "cell_type": "markdown",
   "metadata": {},
   "source": [
    "Next, the DFT algorithm will be run for all the generated images with different sizes. In addition, the running time will also be saved."
   ]
  },
  {
   "cell_type": "code",
   "execution_count": 12,
   "metadata": {},
   "outputs": [
    {
     "name": "stdout",
     "output_type": "stream",
     "text": [
      "Computing for  128 x 128 image...\n",
      "Computing for  64 x 64 image...\n",
      "Computing for  32 x 32 image...\n",
      "Computing for  16 x 16 image...\n",
      "Computing for  8 x 8 image...\n"
     ]
    }
   ],
   "source": [
    "#Generate images\n",
    "imgSizes = [128, 64, 32, 16, 8]\n",
    "images = generateImages(imgSizes)\n",
    "\n",
    "# A list that stores the running time of the DFT algorithm for images with different size.\n",
    "runningTimeDFT = []\n",
    "\n",
    "#For each image...\n",
    "for i, imge in enumerate(images):\n",
    "    \n",
    "    #Compute the image size\n",
    "    N = imge.shape[0]\n",
    "    \n",
    "    print \"Computing for \", N, \"x\", N, \"image...\"\n",
    "    \n",
    "    #Step 1: Center the image\n",
    "    centeredImge = DFT.computeCenteredImage(imge)\n",
    "\n",
    "    #Save the starting time.\n",
    "    startTime = time.time()\n",
    "\n",
    "    #Step 2: Compute the DFT of the image using the matrix multiplication form. \n",
    "    dftImge = DFT.computeForward2DDFTNoSeparability(centeredImge)\n",
    "    \n",
    "    #Save the running time\n",
    "    runningTimeDFT.append((time.time() - startTime)/60.00)"
   ]
  },
  {
   "cell_type": "markdown",
   "metadata": {},
   "source": [
    "Save the running time to file:"
   ]
  },
  {
   "cell_type": "code",
   "execution_count": 13,
   "metadata": {
    "collapsed": true
   },
   "outputs": [],
   "source": [
    "result = zip(imgSizes, runningTimeDFT)\n",
    "np.savetxt(\"RunningTimes/runningTimeDFT.csv\", np.array(result), delimiter=',')"
   ]
  },
  {
   "cell_type": "code",
   "execution_count": 14,
   "metadata": {},
   "outputs": [
    {
     "data": {
      "image/png": "[encoded data removed]",
      "text/plain": [
       "<matplotlib.figure.Figure at 0x7fc59b149d90>"
      ]
     },
     "metadata": {},
     "output_type": "display_data"
    }
   ],
   "source": [
    "#Plot the running times\n",
    "plt.plot(xrange(len(runningTimeDFT)), runningTimeDFT, '-d')\n",
    "\n",
    "xlabels = [str(imge.shape[0]) + 'x' + str(imge.shape[0]) for imge in images]\n",
    "plt.xticks(xrange(len(runningTimeDFT)), xlabels)\n",
    "plt.xlabel(\"Image Size(Pixels)\")\n",
    "plt.ylabel(\"Time(Minutes)\")\n",
    "plt.show()"
   ]
  },
  {
   "cell_type": "markdown",
   "metadata": {},
   "source": [
    "## Conclusion"
   ]
  },
  {
   "cell_type": "markdown",
   "metadata": {},
   "source": [
    "In this post, we have implemented Discrete Fourier Transform (forward and reverse) from scratch. Then, we applied it to 2D images. "
   ]
  }
 ],
 "metadata": {
  "anaconda-cloud": {},
  "kernelspec": {
   "display_name": "Python 2",
   "language": "python",
   "name": "python2"
  },
  "language_info": {
   "codemirror_mode": {
    "name": "ipython",
    "version": 2
   },
   "file_extension": ".py",
   "mimetype": "text/x-python",
   "name": "python",
   "nbconvert_exporter": "python",
   "pygments_lexer": "ipython2",
   "version": "2.7.13"
  }
 },
 "nbformat": 4,
 "nbformat_minor": 1
}
